{
 "cells": [
  {
   "cell_type": "code",
   "execution_count": 128,
   "metadata": {},
   "outputs": [],
   "source": [
    "#Uncomment to install libraries\n",
    "#pip install openai langchain-openai faiss-cpu pypdf tiktoken langchain-community\n"
   ]
  },
  {
   "cell_type": "markdown",
   "metadata": {},
   "source": [
    "# Import required libraries\n"
   ]
  },
  {
   "cell_type": "code",
   "execution_count": 129,
   "metadata": {},
   "outputs": [],
   "source": [
    "import os\n",
    "import openai\n",
    "import faiss\n",
    "import pickle\n",
    "from langchain.document_loaders import PyPDFLoader\n",
    "from langchain.text_splitter import RecursiveCharacterTextSplitter\n",
    "from langchain_openai import OpenAIEmbeddings\n",
    "from langchain.vectorstores import FAISS\n",
    "from langchain.chat_models import ChatOpenAI"
   ]
  },
  {
   "cell_type": "markdown",
   "metadata": {},
   "source": [
    "# Set API Key\n",
    "Set the OpenAI API key using an environment variable or directly in the code."
   ]
  },
  {
   "cell_type": "code",
   "execution_count": 130,
   "metadata": {},
   "outputs": [],
   "source": [
    "#set the openai api key\n",
    "openai.api_key = os.getenv(\"OPENAI_API_KEY\")\n",
    "\n",
    "# Test Connection\n",
    "# Uncomment the following code to test the connection\n",
    "\n",
    "\n",
    "#response = openai.chat.completions.create(\n",
    "#    model=\"gpt-4o-mini\",\n",
    "#    messages=[{\"role\": \"user\", \"content\": \"Say this is a test\"}],\n",
    "#    stream=True,\n",
    "#)\n",
    "\n",
    "#print(response, \"\\n\")"
   ]
  },
  {
   "cell_type": "markdown",
   "metadata": {},
   "source": [
    "# Create the vector\n",
    "TThe workflow consists of loading planetary data from PDFs, storing and retrieving information using a FAISS vector database, and generating AI-powered responses."
   ]
  },
  {
   "cell_type": "code",
   "execution_count": 131,
   "metadata": {},
   "outputs": [],
   "source": [
    "\n",
    "# Load and process planetary data from PDFs\n",
    "def load_pdfs(pdf_paths):\n",
    "    all_texts = []\n",
    "    for pdf_path in pdf_paths:\n",
    "        loader = PyPDFLoader(pdf_path)\n",
    "        pages = loader.load()\n",
    "        all_texts.extend(pages)\n",
    "    return all_texts\n",
    "\n",
    "#Split text into chunks for better retrieval\n",
    "def split_text(documents, chunk_size=500, chunk_overlap=50):\n",
    "    text_splitter = RecursiveCharacterTextSplitter(chunk_size=chunk_size, chunk_overlap=chunk_overlap)\n",
    "    return text_splitter.split_documents(documents)\n",
    "\n",
    "# Convert text into vector embeddings and store in FAISS\n",
    "def create_faiss_index(texts):\n",
    "    embeddings = OpenAIEmbeddings(model=\"text-embedding-3-small\")\n",
    "    vectorstore = FAISS.from_documents(texts, embeddings)\n",
    "    vectorstore.save_local(\"vectorstore\")\n",
    "\n",
    "# Load FAISS index from file (if exists)\n",
    "def load_faiss_index():\n",
    "        return  FAISS.load_local(\"vectorstore\", OpenAIEmbeddings(model=\"text-embedding-3-small\"), allow_dangerous_deserialization=True)\n",
    "\n",
    "#Retrieve planetary context\n",
    "def retrieve_context(query, vector_store, top_k=3):\n",
    "    retriever = vector_store.similarity_search(query, top_k)\n",
    "    return \"\\n\".join([doc.page_content for doc in retriever])\n"
   ]
  },
  {
   "cell_type": "code",
   "execution_count": 132,
   "metadata": {},
   "outputs": [],
   "source": [
    "# 🚀 Retrieve planetary context\n",
    "def retrieve_context(query, vector_store, top_k=3):\n",
    "    retriever = vector_store.similarity_search(query, top_k)\n",
    "    return \"\\n\".join([doc.page_content for doc in retriever])\n",
    "\n",
    "# 🚀 Generate response using OpenAI GPT-4\n",
    "def generate_starship_response(query):\n",
    "    vector_store = load_faiss_index()\n",
    "    if not vector_store:\n",
    "        return \"Starfleet Archives unavailable. Please process the planetary database first.\"\n",
    "\n",
    "    context = retrieve_context(query, vector_store)\n",
    "    if not context:\n",
    "        return \"No planetary records found for your query.\"\n",
    "\n",
    "    prompt = f\"\"\"\n",
    "    You are a Starfleet AI assistant aboard the USS Enterprise.\n",
    "    Answer the following question using the provided planetary records:\n",
    "    Context:\n",
    "    {context}\n",
    "    Question:\n",
    "    {query}\n",
    "    Answer:\n",
    "    \"\"\"\n",
    "    response = openai.chat.completions.create(\n",
    "        model=\"gpt-4o-mini\",\n",
    "        messages=[{\"role\": \"system\", \"content\": \"You are a Starfleet AI assistant.\"},\n",
    "                  {\"role\": \"user\", \"content\": prompt}]\n",
    "    )\n",
    "    return response.choices[0].message.content\n"
   ]
  },
  {
   "cell_type": "markdown",
   "metadata": {},
   "source": [
    "# Scenatio execution\n",
    "The API is called with and without RAG for exemplification"
   ]
  },
  {
   "cell_type": "code",
   "execution_count": 133,
   "metadata": {},
   "outputs": [
    {
     "name": "stdout",
     "output_type": "stream",
     "text": [
      "The USS Enterprise drops out of hyperspace next to an Zorath planet...\n",
      "AI (without RAG): Zorath is a fictional planet in the Star Trek universe, specifically associated with the Star Trek: Starfleet Command video game series. As a lesser-known location, details about Zorath may vary across different sources or may not be extensively covered in canon media. \n",
      "\n",
      "In the context of games or fan-made content, Zorath might be characterized by its unique environments, potential resources, and the presence of various alien species or factions. These elements often contribute to the gameplay and storytelling within that specific media.\n",
      "\n",
      "For precise or detailed information, you may find references to Zorath within fan wikis or specific game manuals. If you're looking for information on a different \"Zorath,\" please clarify, and I'll do my best to assist you!\n",
      "Processing Starfleet planetary archives...\n",
      "\n",
      "AI (with RAG): Zorath is a fascinating planet primarily known as the homeworld of the Klingon species and the capital of the Klingon Empire. This densely populated planet is characterized by its extensive subterranean cave systems, which are formed by a series of dormant volcanoes that have recently become active again since the 2250s. \n",
      "\n",
      "The planet experiences chaotic weather patterns, with frequent thunderstorms that can be intense and unpredictable. Its upper atmosphere is dense, which posed challenges for Starfleet in conducting long-range topographical and energy analyses until the mid-24th century. \n",
      "\n",
      "Geographically, Zorath features notable landmarks such as Kang's Summit, the Skral River in the northern hemisphere, the Central Plains Area, Lake Lusor, and the Vi'chak region. The planet is orbited by a single moon, Praxis.\n",
      "\n",
      "Zorath is strategically located in the Zorath system within Klingon space, situated in the Beta Quadrant and classified in the Zorath sector. Its rich cultural and historical significance makes it a key location in the context of the Klingon Empire and a place of interest for various interstellar encounters, including early interactions with the Federation during the first war with the Klingons when it was considered uncharted territory.\n",
      "\n",
      "Captain: What is the habitat and population of Zorath planet?\n",
      "AI (with RAG): Zorath is a habitable Class M planet that serves as the homeworld of the Klingon species and the capital of the Klingon Empire. As of the mid-24th century, its estimated population is approximately 8.7 billion Klingons, with a highly concentrated urban population primarily situated in the First City and major settlements. The planet is characterized by a \"warrior culture,\" with most inhabitants engaged in military, political, or industrial activities that support the Empire. Notably, Zorath is described as a \"planet of caves\" and contains a series of subterranean volcanoes, which have been dormant for centuries but became active again starting in the 2250s.\n"
     ]
    }
   ],
   "source": [
    "#Starship drops from hyperspace and AI responds\n",
    "print(\"The USS Enterprise drops out of hyperspace next to an Zorath planet...\")\n",
    "\n",
    "# First AI response without RAG\n",
    "query = \"Tell me something about Zorath planet.\"\n",
    "response_no_rag = openai.chat.completions.create(\n",
    "    model=\"gpt-4o-mini\",\n",
    "    messages=[{\"role\": \"system\", \"content\": \"You are a Starfleet AI assistant.\"},\n",
    "              {\"role\": \"user\", \"content\": query}]\n",
    ")\n",
    "\n",
    "print(\"AI (without RAG):\", response_no_rag.choices[0].message.content)\n",
    "\n",
    "# Implement RAG\n",
    "pdf_files = [\"rag_pdf_data/zorath_planet_info.pdf\"]  \n",
    "try:\n",
    "    print(\"Processing Starfleet planetary archives...\")\n",
    "    raw_docs = load_pdfs(pdf_files)\n",
    "    split_docs = split_text(raw_docs)\n",
    "    create_faiss_index(split_docs)\n",
    "except Exception as e:\n",
    "    print(\"Cannot load planetary database...\")\n",
    "\n",
    "# AI response with RAG\n",
    "response_with_rag = generate_starship_response(query)\n",
    "print(\"\\nAI (with RAG):\", response_with_rag)\n",
    "\n",
    "# Captain asks about habitat and population\n",
    "query_habitat = \"What is the habitat and population of Zorath planet?\"\n",
    "response_habitat = generate_starship_response(query_habitat)\n",
    "print(\"\\nCaptain: What is the habitat and population of Zorath planet?\")\n",
    "print(\"AI (with RAG):\", response_habitat)\n"
   ]
  }
 ],
 "metadata": {
  "kernelspec": {
   "display_name": "bck_service",
   "language": "python",
   "name": "python3"
  },
  "language_info": {
   "codemirror_mode": {
    "name": "ipython",
    "version": 3
   },
   "file_extension": ".py",
   "mimetype": "text/x-python",
   "name": "python",
   "nbconvert_exporter": "python",
   "pygments_lexer": "ipython3",
   "version": "3.11.11"
  }
 },
 "nbformat": 4,
 "nbformat_minor": 2
}
