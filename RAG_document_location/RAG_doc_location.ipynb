{
 "cells": [
  {
   "cell_type": "code",
   "execution_count": 7,
   "metadata": {},
   "outputs": [],
   "source": [
    "#Uncomment to install libraries\n",
    "#pip install openai langchain-openai faiss-cpu pypdf tiktoken langchain-community\n"
   ]
  },
  {
   "cell_type": "markdown",
   "metadata": {},
   "source": [
    "# Import required libraries\n"
   ]
  },
  {
   "cell_type": "code",
   "execution_count": 1,
   "metadata": {},
   "outputs": [],
   "source": [
    "import os\n",
    "import openai\n",
    "import faiss\n",
    "import pickle\n",
    "from langchain.document_loaders import PyPDFLoader\n",
    "from langchain.text_splitter import RecursiveCharacterTextSplitter\n",
    "from langchain_openai import OpenAIEmbeddings\n",
    "from langchain.vectorstores import FAISS\n",
    "from langchain.chat_models import ChatOpenAI"
   ]
  },
  {
   "cell_type": "markdown",
   "metadata": {},
   "source": [
    "# Set API Key\n",
    "Set the OpenAI API key using an environment variable or directly in the code."
   ]
  },
  {
   "cell_type": "code",
   "execution_count": 2,
   "metadata": {},
   "outputs": [],
   "source": [
    "#set the openai api key\n",
    "openai.api_key = os.getenv(\"OPENAI_API_KEY\")\n",
    "\n",
    "# Test Connection\n",
    "# Uncomment the following code to test the connection\n",
    "\n",
    "\n",
    "#response = openai.chat.completions.create(\n",
    "#    model=\"gpt-4o-mini\",\n",
    "#    messages=[{\"role\": \"user\", \"content\": \"Say this is a test\"}],\n",
    "#    stream=True,\n",
    "#)\n",
    "\n",
    "#print(response, \"\\n\")"
   ]
  },
  {
   "cell_type": "markdown",
   "metadata": {},
   "source": [
    "# Create the vector\n",
    "TThe workflow consists of loading planetary data from PDFs, storing and retrieving information using a FAISS vector database, and generating AI-powered responses."
   ]
  },
  {
   "cell_type": "code",
   "execution_count": 3,
   "metadata": {},
   "outputs": [],
   "source": [
    "\n",
    "# Load and process planetary data from PDFs\n",
    "def load_pdfs(pdf_paths):\n",
    "    all_texts = []\n",
    "    for pdf_path in pdf_paths:\n",
    "        loader = PyPDFLoader(pdf_path)\n",
    "        pages = loader.load()\n",
    "        all_texts.extend(pages)\n",
    "    return all_texts\n",
    "\n",
    "#Split text into chunks for better retrieval\n",
    "def split_text(documents, chunk_size=500, chunk_overlap=50):\n",
    "    text_splitter = RecursiveCharacterTextSplitter(chunk_size=chunk_size, chunk_overlap=chunk_overlap)\n",
    "    return text_splitter.split_documents(documents)\n",
    "\n",
    "# Convert text into vector embeddings and store in FAISS\n",
    "def create_faiss_index(texts):\n",
    "    embeddings = OpenAIEmbeddings(model=\"text-embedding-3-small\")\n",
    "    vectorstore = FAISS.from_documents(texts, embeddings)\n",
    "    vectorstore.save_local(\"vectorstore\")\n",
    "\n",
    "# Load FAISS index from file (if exists)\n",
    "def load_faiss_index():\n",
    "        return  FAISS.load_local(\"vectorstore\", OpenAIEmbeddings(model=\"text-embedding-3-small\"), allow_dangerous_deserialization=True)\n",
    "\n",
    "#Retrieve planetary context\n",
    "def retrieve_context(query, vector_store, top_k=3):\n",
    "    retriever = vector_store.similarity_search(query, top_k)\n",
    "    return \"\\n\".join([doc.page_content for doc in retriever])\n"
   ]
  },
  {
   "cell_type": "code",
   "execution_count": 4,
   "metadata": {},
   "outputs": [],
   "source": [
    "#Retrieve do context\n",
    "def retrieve_context(query, vector_store, top_k=1):\n",
    "    retriever = vector_store.similarity_search(query, top_k)\n",
    "    print( \"\\n\\n\".join((f\"Source: {doc.metadata}\\n\") for doc in retriever))\n",
    "    return \"\\n\".join([doc.page_content for doc in retriever])\n",
    "\n",
    "# Generate response using OpenAI GPT-4\n",
    "def generate_response(query):\n",
    "    vector_store = load_faiss_index()\n",
    "    if not vector_store:\n",
    "        return \"Archives unavailable. Please process database first.\"\n",
    "\n",
    "    context = retrieve_context(query, vector_store)\n",
    "\n",
    "    if not context:\n",
    "        return \"No records found for your query.\"\n",
    "\n",
    "    prompt = f\"\"\"\n",
    "    You are a company assistent, and you have to ansfer the following questions based on the information you have in the company's archives.\n",
    "    Context:\n",
    "    {context}\n",
    "    Question:\n",
    "    {query}\n",
    "    Answer:\n",
    "    \"\"\"\n",
    "    response = openai.chat.completions.create(\n",
    "        model=\"gpt-4o-mini\",\n",
    "\n",
    "        messages=[{\"role\": \"system\", \"content\": \"You are a Starfleet AI assistant.\"},\n",
    "                  {\"role\": \"user\", \"content\": prompt}]\n",
    "    )\n",
    "    return response.choices[0].message.content\n"
   ]
  },
  {
   "cell_type": "markdown",
   "metadata": {},
   "source": [
    "# Scenario execution\n",
    "The API is called with and without RAG for exemplification"
   ]
  },
  {
   "cell_type": "code",
   "execution_count": 5,
   "metadata": {},
   "outputs": [
    {
     "name": "stdout",
     "output_type": "stream",
     "text": [
      "Processing documents...\n"
     ]
    }
   ],
   "source": [
    "\n",
    "\n",
    "# Implement RAG\n",
    "pdf_files = [\"pdf_files/Short_guide_EU.pdf\"]  \n",
    "try:\n",
    "    print(\"Processing documents...\")\n",
    "    raw_docs = load_pdfs(pdf_files)\n",
    "    split_docs = split_text(raw_docs)\n",
    "    create_faiss_index(split_docs)\n",
    "except Exception as e:\n",
    "    print(\"Cannot process documents...\")\n"
   ]
  },
  {
   "cell_type": "code",
   "execution_count": 6,
   "metadata": {},
   "outputs": [
    {
     "name": "stdout",
     "output_type": "stream",
     "text": [
      "Source: {'source': 'pdf_files/Short_guide_EU.pdf', 'page': 8, 'page_label': '9'}\n",
      "\n",
      "\n",
      "AI response: The populations are as follows:\n",
      "- Hungary: 9.6 million\n",
      "- Romania: 19.1 million\n",
      "- Greece: 10.4 million\n"
     ]
    }
   ],
   "source": [
    "query = \"Give me the population of Hungary, Romania and Greece?\"\n",
    "# AI response with RAG\n",
    "response_with_rag = generate_response(query)\n",
    "print(\"\\nAI response:\", response_with_rag)\n"
   ]
  }
 ],
 "metadata": {
  "kernelspec": {
   "display_name": "bck_service",
   "language": "python",
   "name": "python3"
  },
  "language_info": {
   "codemirror_mode": {
    "name": "ipython",
    "version": 3
   },
   "file_extension": ".py",
   "mimetype": "text/x-python",
   "name": "python",
   "nbconvert_exporter": "python",
   "pygments_lexer": "ipython3",
   "version": "3.11.11"
  }
 },
 "nbformat": 4,
 "nbformat_minor": 2
}
